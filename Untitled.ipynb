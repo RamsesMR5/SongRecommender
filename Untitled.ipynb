{
 "cells": [
  {
   "cell_type": "markdown",
   "id": "8c974ca5",
   "metadata": {},
   "source": [
    "# Spotify song recommender"
   ]
  },
  {
   "cell_type": "markdown",
   "id": "32d2b3f6",
   "metadata": {},
   "source": [
    "### 1- import everything you need :D"
   ]
  },
  {
   "cell_type": "code",
   "execution_count": 43,
   "id": "afaa085e",
   "metadata": {},
   "outputs": [
    {
     "data": {
      "text/plain": [
       "True"
      ]
     },
     "execution_count": 43,
     "metadata": {},
     "output_type": "execute_result"
    }
   ],
   "source": [
    "import os\n",
    "import json\n",
    "import requests\n",
    "import pandas as pd\n",
    "import numpy as np\n",
    "\n",
    "from dotenv import load_dotenv\n",
    "load_dotenv()"
   ]
  },
  {
   "cell_type": "markdown",
   "id": "a11bd9c4",
   "metadata": {},
   "source": [
    "### 2- define a function that gets you access to the spotify API"
   ]
  },
  {
   "cell_type": "code",
   "execution_count": 44,
   "id": "1d2085ca",
   "metadata": {},
   "outputs": [],
   "source": [
    "def spotify_token ():\n",
    "    \n",
    "    \"\"\"This function refreshes a 'queries token' for a given app on Spotify.\n",
    "    queries token are refreshed every 3600 seconds\n",
    "    returns: token as a string\n",
    "    \"\"\"\n",
    "\n",
    "    # 1. Defining: credentials fot the app\n",
    "    \n",
    "    CLIENT_ID = os.getenv(\"CLIENT_ID\")\n",
    "    CLIENT_SECRET = os.getenv(\"CLIENT_SECRET\")\n",
    "    \n",
    "    #2. Request\n",
    "    \n",
    "    body_params = {\"grant_type\":\"client_credentials\"}\n",
    "    url = \"https://accounts.spotify.com/api/token\"\n",
    "    response = requests.post(url, data=body_params, auth=(CLIENT_ID,CLIENT_SECRET))\n",
    "    \n",
    "    try:\n",
    "        token = response.json()[\"access_token\"]\n",
    "        return token\n",
    "\n",
    "    except:\n",
    "        print(\"Nope. Maybe check credentials?\")\n"
   ]
  },
  {
   "cell_type": "code",
   "execution_count": 45,
   "id": "06b6f6b2",
   "metadata": {},
   "outputs": [
    {
     "data": {
      "text/plain": [
       "'BQAAn7eZGVymjHeFpH50REMRoz4tUB-aEq3IuERLggmkTcYFLCbI66MXx76tAPdxarv9xd59HlKLTCHFIDOQZU67TtWL3FhKwAJHgMjHMOzYvr0bAoQ'"
      ]
     },
     "execution_count": 45,
     "metadata": {},
     "output_type": "execute_result"
    }
   ],
   "source": [
    "token = spotify_token()\n",
    "token"
   ]
  },
  {
   "cell_type": "markdown",
   "id": "7545ec25",
   "metadata": {},
   "source": [
    "### 3- define function for the user to input the link of the track "
   ]
  },
  {
   "cell_type": "code",
   "execution_count": 46,
   "id": "929d025f",
   "metadata": {},
   "outputs": [],
   "source": [
    "def extract_id_from_link(link):\n",
    "    #link = input(\"Enter the link: \")\n",
    "    # Extract the ID between the last '/' and the '?'\n",
    "    start_index = link.rfind(\"/\") + 1\n",
    "    end_index = link.find(\"?\")\n",
    "    \n",
    "    # Return the extracted ID\n",
    "    if end_index != -1:\n",
    "        return link[start_index:end_index]\n",
    "    else:\n",
    "        return link[start_index:]\n",
    "\n",
    "# Call the function to extract the ID from the user-provided link\n",
    "#song_id = extract_id_from_link(\"https://open.spotify.com/track/1467Zd8OEpN4uMLVrplVlr?si=178e274dc1524fc1\")\n",
    "#song_id\n"
   ]
  },
  {
   "cell_type": "markdown",
   "id": "fd420dc6",
   "metadata": {},
   "source": [
    "### 4- define a function to request spotify"
   ]
  },
  {
   "cell_type": "code",
   "execution_count": 47,
   "id": "a8008fd6",
   "metadata": {},
   "outputs": [],
   "source": [
    "def request_from_spotify (song_id):\n",
    "    headers = {\"Authorization\":f\"Bearer {token}\"}\n",
    "    url_base = \"https://api.spotify.com/v1/recommendations?seed_tracks=\"\n",
    "    url = f\"https://api.spotify.com/v1/recommendations?limit=5&seed_tracks={song_id}\"\n",
    "    return requests.get(url, headers=headers)"
   ]
  },
  {
   "cell_type": "markdown",
   "id": "5e1d9867",
   "metadata": {},
   "source": [
    "### 5- define a function to get response from spotify"
   ]
  },
  {
   "cell_type": "code",
   "execution_count": 48,
   "id": "93c18868",
   "metadata": {},
   "outputs": [],
   "source": [
    "def todo (link):\n",
    "    #link = input(\"Enter the link: \")\n",
    "    song_id = extract_id_from_link(link)\n",
    "    res = request_from_spotify (song_id)\n",
    "    return res"
   ]
  },
  {
   "cell_type": "code",
   "execution_count": 49,
   "id": "04fc8e30",
   "metadata": {},
   "outputs": [
    {
     "data": {
      "text/plain": [
       "<Response [200]>"
      ]
     },
     "execution_count": 49,
     "metadata": {},
     "output_type": "execute_result"
    }
   ],
   "source": [
    "res = todo(\"https://open.spotify.com/track/1467Zd8OEpN4uMLVrplVlr?si=178e274dc1524fc1\") # https://open.spotify.com/track/1467Zd8OEpN4uMLVrplVlr?si=178e274dc1524fc1\n",
    "res"
   ]
  },
  {
   "cell_type": "code",
   "execution_count": 50,
   "id": "c3aeebba",
   "metadata": {},
   "outputs": [],
   "source": [
    "#res.json()[\"tracks\"]"
   ]
  },
  {
   "cell_type": "code",
   "execution_count": 51,
   "id": "0cd8fe80",
   "metadata": {},
   "outputs": [
    {
     "data": {
      "text/plain": [
       "'Endless Sacrifice'"
      ]
     },
     "execution_count": 51,
     "metadata": {},
     "output_type": "execute_result"
    }
   ],
   "source": [
    "album_name = res.json()[\"tracks\"][0][\"album\"][\"name\"]\n",
    "album_name"
   ]
  },
  {
   "cell_type": "code",
   "execution_count": 52,
   "id": "eea1e321",
   "metadata": {},
   "outputs": [
    {
     "data": {
      "text/plain": [
       "'Harmed'"
      ]
     },
     "execution_count": 52,
     "metadata": {},
     "output_type": "execute_result"
    }
   ],
   "source": [
    "song_name = res.json()[\"tracks\"][0][\"name\"]\n",
    "song_name"
   ]
  },
  {
   "cell_type": "code",
   "execution_count": 53,
   "id": "39994fa7",
   "metadata": {},
   "outputs": [
    {
     "data": {
      "text/plain": [
       "'Fideles'"
      ]
     },
     "execution_count": 53,
     "metadata": {},
     "output_type": "execute_result"
    }
   ],
   "source": [
    "artists = res.json()[\"tracks\"][0][\"artists\"][0][\"name\"]\n",
    "artists"
   ]
  },
  {
   "cell_type": "markdown",
   "id": "4b39dc78",
   "metadata": {},
   "source": [
    "### 6- define a function to put everything on a dictionary"
   ]
  },
  {
   "cell_type": "code",
   "execution_count": 54,
   "id": "20cf8884",
   "metadata": {},
   "outputs": [],
   "source": [
    "def songs_to_dict(link):\n",
    "    res = todo(link)\n",
    "    song_name = res.json()[\"tracks\"][0][\"name\"]\n",
    "    artists = res.json()[\"tracks\"][0][\"artists\"][0][\"name\"]\n",
    "    album_name = res.json()[\"tracks\"][0][\"album\"][\"name\"]\n",
    "    \n",
    "    song_dict = {\n",
    "    \"song\": song_name,\n",
    "    \"artist\": artists,\n",
    "    \"album\": album_name\n",
    "    }\n",
    "    return song_dict"
   ]
  },
  {
   "cell_type": "code",
   "execution_count": 55,
   "id": "c90a2015",
   "metadata": {},
   "outputs": [
    {
     "data": {
      "text/plain": [
       "{'song': 'Type Machine - Hexlogic Remix',\n",
       " 'artist': '8Kays',\n",
       " 'album': 'Type Machine'}"
      ]
     },
     "execution_count": 55,
     "metadata": {},
     "output_type": "execute_result"
    }
   ],
   "source": [
    "songs_to_dict(\"https://open.spotify.com/track/1467Zd8OEpN4uMLVrplVlr?si=178e274dc1524fc1\")"
   ]
  },
  {
   "cell_type": "code",
   "execution_count": 56,
   "id": "1b0b0705",
   "metadata": {},
   "outputs": [
    {
     "data": {
      "text/plain": [
       "'https://open.spotify.com/track/2UCDEXstmpgvf1akDnYRSh'"
      ]
     },
     "execution_count": 56,
     "metadata": {},
     "output_type": "execute_result"
    }
   ],
   "source": [
    "res.json()[\"tracks\"][0][\"external_urls\"][\"spotify\"]"
   ]
  },
  {
   "cell_type": "markdown",
   "id": "3176b852",
   "metadata": {},
   "source": [
    "### 7- define the final function that will have everything together"
   ]
  },
  {
   "cell_type": "code",
   "execution_count": 57,
   "id": "7cb65093",
   "metadata": {},
   "outputs": [],
   "source": [
    "#def song_recommendation(res):\n",
    "    #new_list = []\n",
    "    #for i in res.json()[\"tracks\"]: #i -> link\n",
    "        #url = i[\"external_urls\"][\"spotify\"]\n",
    "        #new_list.append(songs_to_dict(url))\n",
    "    #return pd.DataFrame(new_list)\n"
   ]
  },
  {
   "cell_type": "code",
   "execution_count": null,
   "id": "5e7f40b4",
   "metadata": {
    "scrolled": true
   },
   "outputs": [],
   "source": []
  },
  {
   "cell_type": "code",
   "execution_count": 58,
   "id": "c60b6fa8",
   "metadata": {},
   "outputs": [],
   "source": [
    "def song_recommendation(res):\n",
    "    new_list = []\n",
    "    \n",
    "    link = input(\"Enter the link: \")\n",
    "    song_id = extract_id_from_link(link)\n",
    "    res = request_from_spotify (song_id)\n",
    "    \n",
    "    res = todo(link)\n",
    "    song_name = res.json()[\"tracks\"][0][\"name\"]\n",
    "    artists = res.json()[\"tracks\"][0][\"artists\"][0][\"name\"]\n",
    "    album_name = res.json()[\"tracks\"][0][\"album\"][\"name\"]\n",
    "    \n",
    "    song_dict = {\n",
    "    \"song\": song_name,\n",
    "    \"artist\": artists,\n",
    "    \"album\": album_name\n",
    "    }    \n",
    "    \n",
    "    for i in res.json()[\"tracks\"]: #i -> link\n",
    "        url = i[\"external_urls\"][\"spotify\"]\n",
    "        new_list.append(songs_to_dict(url))\n",
    "    return pd.DataFrame(new_list)"
   ]
  },
  {
   "cell_type": "code",
   "execution_count": 59,
   "id": "cddde07a",
   "metadata": {},
   "outputs": [
    {
     "name": "stdout",
     "output_type": "stream",
     "text": [
      "Enter the link: https://open.spotify.com/track/04mq28ok538qTCtlcApfs9?si=dd5333f89c1c4ff0\n"
     ]
    },
    {
     "data": {
      "text/html": [
       "<div>\n",
       "<style scoped>\n",
       "    .dataframe tbody tr th:only-of-type {\n",
       "        vertical-align: middle;\n",
       "    }\n",
       "\n",
       "    .dataframe tbody tr th {\n",
       "        vertical-align: top;\n",
       "    }\n",
       "\n",
       "    .dataframe thead th {\n",
       "        text-align: right;\n",
       "    }\n",
       "</style>\n",
       "<table border=\"1\" class=\"dataframe\">\n",
       "  <thead>\n",
       "    <tr style=\"text-align: right;\">\n",
       "      <th></th>\n",
       "      <th>song</th>\n",
       "      <th>artist</th>\n",
       "      <th>album</th>\n",
       "    </tr>\n",
       "  </thead>\n",
       "  <tbody>\n",
       "    <tr>\n",
       "      <th>0</th>\n",
       "      <td>Confusión</td>\n",
       "      <td>Poligamia</td>\n",
       "      <td>Vueltas &amp; Vueltas</td>\n",
       "    </tr>\n",
       "    <tr>\n",
       "      <th>1</th>\n",
       "      <td>Princesa</td>\n",
       "      <td>Alerta Kamarada</td>\n",
       "      <td>Somos Uno</td>\n",
       "    </tr>\n",
       "    <tr>\n",
       "      <th>2</th>\n",
       "      <td>Mi Mantra</td>\n",
       "      <td>Sie7e</td>\n",
       "      <td>Gaia</td>\n",
       "    </tr>\n",
       "    <tr>\n",
       "      <th>3</th>\n",
       "      <td>Cafecito</td>\n",
       "      <td>La Ciencia de Juancho Valencia</td>\n",
       "      <td>La Fórmula del Mambo</td>\n",
       "    </tr>\n",
       "    <tr>\n",
       "      <th>4</th>\n",
       "      <td>Canción Pequeña</td>\n",
       "      <td>Lucio Feuillet</td>\n",
       "      <td>Bailando Bailando</td>\n",
       "    </tr>\n",
       "  </tbody>\n",
       "</table>\n",
       "</div>"
      ],
      "text/plain": [
       "              song                          artist                 album\n",
       "0        Confusión                       Poligamia     Vueltas & Vueltas\n",
       "1         Princesa                 Alerta Kamarada             Somos Uno\n",
       "2        Mi Mantra                           Sie7e                  Gaia\n",
       "3         Cafecito  La Ciencia de Juancho Valencia  La Fórmula del Mambo\n",
       "4  Canción Pequeña                  Lucio Feuillet     Bailando Bailando"
      ]
     },
     "execution_count": 59,
     "metadata": {},
     "output_type": "execute_result"
    }
   ],
   "source": [
    "song_recommendation(res)"
   ]
  },
  {
   "cell_type": "code",
   "execution_count": 19,
   "id": "cfa14029",
   "metadata": {},
   "outputs": [],
   "source": [
    "# 1. link_cancion -> id\n",
    "# 2. id -> res\n",
    "# 3. res -> df\n",
    "# 4. function (link): 1(link), 2(id), 3(res) -> df"
   ]
  }
 ],
 "metadata": {
  "kernelspec": {
   "display_name": "ironhack",
   "language": "python",
   "name": "ironhack"
  },
  "language_info": {
   "codemirror_mode": {
    "name": "ipython",
    "version": 3
   },
   "file_extension": ".py",
   "mimetype": "text/x-python",
   "name": "python",
   "nbconvert_exporter": "python",
   "pygments_lexer": "ipython3",
   "version": "3.9.16"
  }
 },
 "nbformat": 4,
 "nbformat_minor": 5
}

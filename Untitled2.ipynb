{
 "cells": [
  {
   "cell_type": "code",
   "execution_count": 59,
   "id": "e82347bb",
   "metadata": {},
   "outputs": [],
   "source": [
    "import os\n",
    "import time \n",
    "import json\n",
    "import requests\n",
    "import pandas as pd\n",
    "import numpy as np\n",
    "import spotipy\n",
    "from spotipy.oauth2 import SpotifyClientCredentials\n",
    "from dotenv import load_dotenv\n",
    "load_dotenv()\n",
    "from sklearn.preprocessing import StandardScaler\n",
    "from sklearn.neighbors import NearestNeighbors\n",
    "import matplotlib.pyplot as plt\n",
    "from sklearn.decomposition import PCA\n",
    "from sklearn.cluster import KMeans\n",
    "from sklearn.neighbors import KNeighborsClassifier\n",
    "from sklearn.model_selection import train_test_split, cross_val_score\n",
    "from sklearn.metrics import accuracy_score\n",
    "\n",
    "\n"
   ]
  },
  {
   "cell_type": "code",
   "execution_count": 112,
   "id": "376cfd0e",
   "metadata": {},
   "outputs": [],
   "source": [
    "df1 = pd.read_csv(\"data/ram-test.csv\")\n",
    "df2 = pd.read_csv(\"data/ram-test2.csv\")\n",
    "df3 = pd.read_csv(\"data/ram-test3.csv\")\n",
    "\n"
   ]
  },
  {
   "cell_type": "code",
   "execution_count": 78,
   "id": "32c23fd1",
   "metadata": {},
   "outputs": [],
   "source": [
    "df = pd.concat([df1, df2], ignore_index=True)\n"
   ]
  },
  {
   "cell_type": "code",
   "execution_count": 79,
   "id": "709ae12c",
   "metadata": {},
   "outputs": [
    {
     "data": {
      "text/html": [
       "<div>\n",
       "<style scoped>\n",
       "    .dataframe tbody tr th:only-of-type {\n",
       "        vertical-align: middle;\n",
       "    }\n",
       "\n",
       "    .dataframe tbody tr th {\n",
       "        vertical-align: top;\n",
       "    }\n",
       "\n",
       "    .dataframe thead th {\n",
       "        text-align: right;\n",
       "    }\n",
       "</style>\n",
       "<table border=\"1\" class=\"dataframe\">\n",
       "  <thead>\n",
       "    <tr style=\"text-align: right;\">\n",
       "      <th></th>\n",
       "      <th>loudness</th>\n",
       "      <th>num_samples</th>\n",
       "      <th>tempo</th>\n",
       "      <th>tempo_confidence</th>\n",
       "      <th>key</th>\n",
       "      <th>key_confidence</th>\n",
       "      <th>duration</th>\n",
       "      <th>mode</th>\n",
       "      <th>mode_confidence</th>\n",
       "      <th>song_id</th>\n",
       "    </tr>\n",
       "  </thead>\n",
       "  <tbody>\n",
       "    <tr>\n",
       "      <th>0</th>\n",
       "      <td>-8.204</td>\n",
       "      <td>5243490</td>\n",
       "      <td>140.874</td>\n",
       "      <td>0.896</td>\n",
       "      <td>11</td>\n",
       "      <td>0.484</td>\n",
       "      <td>237.80000</td>\n",
       "      <td>0</td>\n",
       "      <td>0.577</td>\n",
       "      <td>186hvCTyrni4KT9nwIQ7zS</td>\n",
       "    </tr>\n",
       "    <tr>\n",
       "      <th>1</th>\n",
       "      <td>-5.195</td>\n",
       "      <td>6969951</td>\n",
       "      <td>123.003</td>\n",
       "      <td>0.786</td>\n",
       "      <td>2</td>\n",
       "      <td>0.418</td>\n",
       "      <td>316.09756</td>\n",
       "      <td>0</td>\n",
       "      <td>0.435</td>\n",
       "      <td>00o3A1lw52kN47JWV9z4LI</td>\n",
       "    </tr>\n",
       "    <tr>\n",
       "      <th>2</th>\n",
       "      <td>-7.303</td>\n",
       "      <td>6868354</td>\n",
       "      <td>118.990</td>\n",
       "      <td>0.762</td>\n",
       "      <td>4</td>\n",
       "      <td>0.202</td>\n",
       "      <td>311.49000</td>\n",
       "      <td>1</td>\n",
       "      <td>0.075</td>\n",
       "      <td>4OF8TKZl9aMlZ449eBrkna</td>\n",
       "    </tr>\n",
       "    <tr>\n",
       "      <th>3</th>\n",
       "      <td>-7.089</td>\n",
       "      <td>8702464</td>\n",
       "      <td>124.984</td>\n",
       "      <td>0.646</td>\n",
       "      <td>7</td>\n",
       "      <td>0.266</td>\n",
       "      <td>394.66956</td>\n",
       "      <td>1</td>\n",
       "      <td>0.303</td>\n",
       "      <td>2Y0Sb7do7pOAT9sYAPpCfU</td>\n",
       "    </tr>\n",
       "    <tr>\n",
       "      <th>4</th>\n",
       "      <td>-7.148</td>\n",
       "      <td>6446538</td>\n",
       "      <td>152.028</td>\n",
       "      <td>0.862</td>\n",
       "      <td>9</td>\n",
       "      <td>0.713</td>\n",
       "      <td>292.36000</td>\n",
       "      <td>1</td>\n",
       "      <td>0.581</td>\n",
       "      <td>6iqBiGFvgWvSwPCZNsacZE</td>\n",
       "    </tr>\n",
       "    <tr>\n",
       "      <th>...</th>\n",
       "      <td>...</td>\n",
       "      <td>...</td>\n",
       "      <td>...</td>\n",
       "      <td>...</td>\n",
       "      <td>...</td>\n",
       "      <td>...</td>\n",
       "      <td>...</td>\n",
       "      <td>...</td>\n",
       "      <td>...</td>\n",
       "      <td>...</td>\n",
       "    </tr>\n",
       "    <tr>\n",
       "      <th>195</th>\n",
       "      <td>-5.783</td>\n",
       "      <td>5813850</td>\n",
       "      <td>125.018</td>\n",
       "      <td>0.713</td>\n",
       "      <td>7</td>\n",
       "      <td>0.579</td>\n",
       "      <td>263.66666</td>\n",
       "      <td>1</td>\n",
       "      <td>0.715</td>\n",
       "      <td>4Rnqj368aw5o9hdVHqAnBi</td>\n",
       "    </tr>\n",
       "    <tr>\n",
       "      <th>196</th>\n",
       "      <td>-7.335</td>\n",
       "      <td>8443805</td>\n",
       "      <td>121.000</td>\n",
       "      <td>0.835</td>\n",
       "      <td>9</td>\n",
       "      <td>0.348</td>\n",
       "      <td>382.93900</td>\n",
       "      <td>1</td>\n",
       "      <td>0.359</td>\n",
       "      <td>3s7oUJmDGCWmHvRe10E6mM</td>\n",
       "    </tr>\n",
       "    <tr>\n",
       "      <th>197</th>\n",
       "      <td>-5.884</td>\n",
       "      <td>9537992</td>\n",
       "      <td>121.993</td>\n",
       "      <td>0.953</td>\n",
       "      <td>0</td>\n",
       "      <td>0.702</td>\n",
       "      <td>432.56200</td>\n",
       "      <td>1</td>\n",
       "      <td>0.338</td>\n",
       "      <td>4ZjGfoT6BmECqoqXNg1g78</td>\n",
       "    </tr>\n",
       "    <tr>\n",
       "      <th>198</th>\n",
       "      <td>-6.506</td>\n",
       "      <td>9394411</td>\n",
       "      <td>118.992</td>\n",
       "      <td>0.907</td>\n",
       "      <td>6</td>\n",
       "      <td>0.322</td>\n",
       "      <td>426.05038</td>\n",
       "      <td>1</td>\n",
       "      <td>0.423</td>\n",
       "      <td>6kUoZagkzkhL8TgbuUiLzM</td>\n",
       "    </tr>\n",
       "    <tr>\n",
       "      <th>199</th>\n",
       "      <td>-9.086</td>\n",
       "      <td>7457879</td>\n",
       "      <td>122.999</td>\n",
       "      <td>0.758</td>\n",
       "      <td>6</td>\n",
       "      <td>0.472</td>\n",
       "      <td>338.22580</td>\n",
       "      <td>0</td>\n",
       "      <td>0.577</td>\n",
       "      <td>3dgAAjnfRgBmYY2gJTlWjW</td>\n",
       "    </tr>\n",
       "  </tbody>\n",
       "</table>\n",
       "<p>200 rows × 10 columns</p>\n",
       "</div>"
      ],
      "text/plain": [
       "     loudness  num_samples    tempo  tempo_confidence  key  key_confidence   \n",
       "0      -8.204      5243490  140.874             0.896   11           0.484  \\\n",
       "1      -5.195      6969951  123.003             0.786    2           0.418   \n",
       "2      -7.303      6868354  118.990             0.762    4           0.202   \n",
       "3      -7.089      8702464  124.984             0.646    7           0.266   \n",
       "4      -7.148      6446538  152.028             0.862    9           0.713   \n",
       "..        ...          ...      ...               ...  ...             ...   \n",
       "195    -5.783      5813850  125.018             0.713    7           0.579   \n",
       "196    -7.335      8443805  121.000             0.835    9           0.348   \n",
       "197    -5.884      9537992  121.993             0.953    0           0.702   \n",
       "198    -6.506      9394411  118.992             0.907    6           0.322   \n",
       "199    -9.086      7457879  122.999             0.758    6           0.472   \n",
       "\n",
       "      duration  mode  mode_confidence                 song_id  \n",
       "0    237.80000     0            0.577  186hvCTyrni4KT9nwIQ7zS  \n",
       "1    316.09756     0            0.435  00o3A1lw52kN47JWV9z4LI  \n",
       "2    311.49000     1            0.075  4OF8TKZl9aMlZ449eBrkna  \n",
       "3    394.66956     1            0.303  2Y0Sb7do7pOAT9sYAPpCfU  \n",
       "4    292.36000     1            0.581  6iqBiGFvgWvSwPCZNsacZE  \n",
       "..         ...   ...              ...                     ...  \n",
       "195  263.66666     1            0.715  4Rnqj368aw5o9hdVHqAnBi  \n",
       "196  382.93900     1            0.359  3s7oUJmDGCWmHvRe10E6mM  \n",
       "197  432.56200     1            0.338  4ZjGfoT6BmECqoqXNg1g78  \n",
       "198  426.05038     1            0.423  6kUoZagkzkhL8TgbuUiLzM  \n",
       "199  338.22580     0            0.577  3dgAAjnfRgBmYY2gJTlWjW  \n",
       "\n",
       "[200 rows x 10 columns]"
      ]
     },
     "execution_count": 79,
     "metadata": {},
     "output_type": "execute_result"
    }
   ],
   "source": [
    "df.drop('Unnamed: 0', inplace=True, axis=1)\n",
    "df"
   ]
  },
  {
   "cell_type": "code",
   "execution_count": null,
   "id": "1486e814",
   "metadata": {},
   "outputs": [],
   "source": []
  },
  {
   "cell_type": "code",
   "execution_count": null,
   "id": "d8180ae7",
   "metadata": {},
   "outputs": [],
   "source": []
  },
  {
   "cell_type": "code",
   "execution_count": null,
   "id": "53e57e19",
   "metadata": {},
   "outputs": [],
   "source": [
    "\n",
    "\n"
   ]
  },
  {
   "cell_type": "code",
   "execution_count": null,
   "id": "0f19a698",
   "metadata": {},
   "outputs": [],
   "source": []
  },
  {
   "cell_type": "code",
   "execution_count": null,
   "id": "7731b6e2",
   "metadata": {},
   "outputs": [],
   "source": [
    "\n"
   ]
  },
  {
   "cell_type": "code",
   "execution_count": null,
   "id": "c79b6a70",
   "metadata": {},
   "outputs": [],
   "source": []
  },
  {
   "cell_type": "code",
   "execution_count": 80,
   "id": "63cfee4e",
   "metadata": {},
   "outputs": [],
   "source": [
    "features = df.drop(columns=['song_id'])\n",
    "scaler = StandardScaler()\n",
    "features_scaled = scaler.fit_transform(features)\n",
    "df_scaled = pd.DataFrame(features_scaled, columns=features.columns)\n"
   ]
  },
  {
   "cell_type": "code",
   "execution_count": 81,
   "id": "865d05c9",
   "metadata": {},
   "outputs": [
    {
     "data": {
      "text/html": [
       "<style>#sk-container-id-3 {color: black;background-color: white;}#sk-container-id-3 pre{padding: 0;}#sk-container-id-3 div.sk-toggleable {background-color: white;}#sk-container-id-3 label.sk-toggleable__label {cursor: pointer;display: block;width: 100%;margin-bottom: 0;padding: 0.3em;box-sizing: border-box;text-align: center;}#sk-container-id-3 label.sk-toggleable__label-arrow:before {content: \"▸\";float: left;margin-right: 0.25em;color: #696969;}#sk-container-id-3 label.sk-toggleable__label-arrow:hover:before {color: black;}#sk-container-id-3 div.sk-estimator:hover label.sk-toggleable__label-arrow:before {color: black;}#sk-container-id-3 div.sk-toggleable__content {max-height: 0;max-width: 0;overflow: hidden;text-align: left;background-color: #f0f8ff;}#sk-container-id-3 div.sk-toggleable__content pre {margin: 0.2em;color: black;border-radius: 0.25em;background-color: #f0f8ff;}#sk-container-id-3 input.sk-toggleable__control:checked~div.sk-toggleable__content {max-height: 200px;max-width: 100%;overflow: auto;}#sk-container-id-3 input.sk-toggleable__control:checked~label.sk-toggleable__label-arrow:before {content: \"▾\";}#sk-container-id-3 div.sk-estimator input.sk-toggleable__control:checked~label.sk-toggleable__label {background-color: #d4ebff;}#sk-container-id-3 div.sk-label input.sk-toggleable__control:checked~label.sk-toggleable__label {background-color: #d4ebff;}#sk-container-id-3 input.sk-hidden--visually {border: 0;clip: rect(1px 1px 1px 1px);clip: rect(1px, 1px, 1px, 1px);height: 1px;margin: -1px;overflow: hidden;padding: 0;position: absolute;width: 1px;}#sk-container-id-3 div.sk-estimator {font-family: monospace;background-color: #f0f8ff;border: 1px dotted black;border-radius: 0.25em;box-sizing: border-box;margin-bottom: 0.5em;}#sk-container-id-3 div.sk-estimator:hover {background-color: #d4ebff;}#sk-container-id-3 div.sk-parallel-item::after {content: \"\";width: 100%;border-bottom: 1px solid gray;flex-grow: 1;}#sk-container-id-3 div.sk-label:hover label.sk-toggleable__label {background-color: #d4ebff;}#sk-container-id-3 div.sk-serial::before {content: \"\";position: absolute;border-left: 1px solid gray;box-sizing: border-box;top: 0;bottom: 0;left: 50%;z-index: 0;}#sk-container-id-3 div.sk-serial {display: flex;flex-direction: column;align-items: center;background-color: white;padding-right: 0.2em;padding-left: 0.2em;position: relative;}#sk-container-id-3 div.sk-item {position: relative;z-index: 1;}#sk-container-id-3 div.sk-parallel {display: flex;align-items: stretch;justify-content: center;background-color: white;position: relative;}#sk-container-id-3 div.sk-item::before, #sk-container-id-3 div.sk-parallel-item::before {content: \"\";position: absolute;border-left: 1px solid gray;box-sizing: border-box;top: 0;bottom: 0;left: 50%;z-index: -1;}#sk-container-id-3 div.sk-parallel-item {display: flex;flex-direction: column;z-index: 1;position: relative;background-color: white;}#sk-container-id-3 div.sk-parallel-item:first-child::after {align-self: flex-end;width: 50%;}#sk-container-id-3 div.sk-parallel-item:last-child::after {align-self: flex-start;width: 50%;}#sk-container-id-3 div.sk-parallel-item:only-child::after {width: 0;}#sk-container-id-3 div.sk-dashed-wrapped {border: 1px dashed gray;margin: 0 0.4em 0.5em 0.4em;box-sizing: border-box;padding-bottom: 0.4em;background-color: white;}#sk-container-id-3 div.sk-label label {font-family: monospace;font-weight: bold;display: inline-block;line-height: 1.2em;}#sk-container-id-3 div.sk-label-container {text-align: center;}#sk-container-id-3 div.sk-container {/* jupyter's `normalize.less` sets `[hidden] { display: none; }` but bootstrap.min.css set `[hidden] { display: none !important; }` so we also need the `!important` here to be able to override the default hidden behavior on the sphinx rendered scikit-learn.org. See: https://github.com/scikit-learn/scikit-learn/issues/21755 */display: inline-block !important;position: relative;}#sk-container-id-3 div.sk-text-repr-fallback {display: none;}</style><div id=\"sk-container-id-3\" class=\"sk-top-container\"><div class=\"sk-text-repr-fallback\"><pre>NearestNeighbors(n_neighbors=3)</pre><b>In a Jupyter environment, please rerun this cell to show the HTML representation or trust the notebook. <br />On GitHub, the HTML representation is unable to render, please try loading this page with nbviewer.org.</b></div><div class=\"sk-container\" hidden><div class=\"sk-item\"><div class=\"sk-estimator sk-toggleable\"><input class=\"sk-toggleable__control sk-hidden--visually\" id=\"sk-estimator-id-3\" type=\"checkbox\" checked><label for=\"sk-estimator-id-3\" class=\"sk-toggleable__label sk-toggleable__label-arrow\">NearestNeighbors</label><div class=\"sk-toggleable__content\"><pre>NearestNeighbors(n_neighbors=3)</pre></div></div></div></div></div>"
      ],
      "text/plain": [
       "NearestNeighbors(n_neighbors=3)"
      ]
     },
     "execution_count": 81,
     "metadata": {},
     "output_type": "execute_result"
    }
   ],
   "source": [
    "k = 3  # Number of nearest neighbors to consider\n",
    "knn_model = NearestNeighbors(n_neighbors=k)\n",
    "knn_model.fit(df_scaled)"
   ]
  },
  {
   "cell_type": "code",
   "execution_count": 82,
   "id": "bd400aa1",
   "metadata": {},
   "outputs": [
    {
     "name": "stderr",
     "output_type": "stream",
     "text": [
      "/Users/ramsesmr/miniconda3/envs/ironhack/lib/python3.9/site-packages/sklearn/base.py:439: UserWarning: X does not have valid feature names, but NearestNeighbors was fitted with feature names\n",
      "  warnings.warn(\n"
     ]
    },
    {
     "data": {
      "image/png": "[encoded data removed]",
      "text/plain": [
       "<Figure size 432x288 with 1 Axes>"
      ]
     },
     "metadata": {
      "needs_background": "light"
     },
     "output_type": "display_data"
    }
   ],
   "source": [
    "data_point = df_scaled.iloc[0]  # Choose a data point for visualization\n",
    "distances, indices = knn_model.kneighbors([data_point])\n",
    "\n",
    "# Get the nearest neighbor indices\n",
    "neighbor_indices = indices[0][1:]  # Exclude the first index (itself)\n",
    "\n",
    "# Prepare the data for visualization\n",
    "data_point_features = df_scaled.iloc[0].values\n",
    "neighbor_features = df_scaled.iloc[neighbor_indices].values\n",
    "\n",
    "# Plot the data point and its nearest neighbors\n",
    "plt.scatter(range(len(data_point_features)), data_point_features, color='blue', label='Data Point')\n",
    "for neighbor_feature in neighbor_features:\n",
    "    plt.scatter(range(len(neighbor_feature)), neighbor_feature, color='red', label='Nearest Neighbor')\n",
    "\n",
    "# Add labels and title\n",
    "plt.xlabel('Feature Index')\n",
    "plt.ylabel('Standardized Feature Value')\n",
    "plt.title('KNN Nearest Neighbors')\n",
    "\n",
    "# Add a legend\n",
    "plt.legend()\n",
    "\n",
    "# Show the plot\n",
    "plt.show()\n"
   ]
  },
  {
   "cell_type": "code",
   "execution_count": 83,
   "id": "adae3fb4",
   "metadata": {},
   "outputs": [
    {
     "name": "stderr",
     "output_type": "stream",
     "text": [
      "/Users/ramsesmr/miniconda3/envs/ironhack/lib/python3.9/site-packages/sklearn/cluster/_kmeans.py:870: FutureWarning: The default value of `n_init` will change from 10 to 'auto' in 1.4. Set the value of `n_init` explicitly to suppress the warning\n",
      "  warnings.warn(\n",
      "/Users/ramsesmr/miniconda3/envs/ironhack/lib/python3.9/site-packages/sklearn/cluster/_kmeans.py:870: FutureWarning: The default value of `n_init` will change from 10 to 'auto' in 1.4. Set the value of `n_init` explicitly to suppress the warning\n",
      "  warnings.warn(\n",
      "/Users/ramsesmr/miniconda3/envs/ironhack/lib/python3.9/site-packages/sklearn/cluster/_kmeans.py:870: FutureWarning: The default value of `n_init` will change from 10 to 'auto' in 1.4. Set the value of `n_init` explicitly to suppress the warning\n",
      "  warnings.warn(\n",
      "/Users/ramsesmr/miniconda3/envs/ironhack/lib/python3.9/site-packages/sklearn/cluster/_kmeans.py:870: FutureWarning: The default value of `n_init` will change from 10 to 'auto' in 1.4. Set the value of `n_init` explicitly to suppress the warning\n",
      "  warnings.warn(\n",
      "/Users/ramsesmr/miniconda3/envs/ironhack/lib/python3.9/site-packages/sklearn/cluster/_kmeans.py:870: FutureWarning: The default value of `n_init` will change from 10 to 'auto' in 1.4. Set the value of `n_init` explicitly to suppress the warning\n",
      "  warnings.warn(\n",
      "/Users/ramsesmr/miniconda3/envs/ironhack/lib/python3.9/site-packages/sklearn/cluster/_kmeans.py:870: FutureWarning: The default value of `n_init` will change from 10 to 'auto' in 1.4. Set the value of `n_init` explicitly to suppress the warning\n",
      "  warnings.warn(\n",
      "/Users/ramsesmr/miniconda3/envs/ironhack/lib/python3.9/site-packages/sklearn/cluster/_kmeans.py:870: FutureWarning: The default value of `n_init` will change from 10 to 'auto' in 1.4. Set the value of `n_init` explicitly to suppress the warning\n",
      "  warnings.warn(\n",
      "/Users/ramsesmr/miniconda3/envs/ironhack/lib/python3.9/site-packages/sklearn/cluster/_kmeans.py:870: FutureWarning: The default value of `n_init` will change from 10 to 'auto' in 1.4. Set the value of `n_init` explicitly to suppress the warning\n",
      "  warnings.warn(\n",
      "/Users/ramsesmr/miniconda3/envs/ironhack/lib/python3.9/site-packages/sklearn/cluster/_kmeans.py:870: FutureWarning: The default value of `n_init` will change from 10 to 'auto' in 1.4. Set the value of `n_init` explicitly to suppress the warning\n",
      "  warnings.warn(\n",
      "/Users/ramsesmr/miniconda3/envs/ironhack/lib/python3.9/site-packages/sklearn/cluster/_kmeans.py:870: FutureWarning: The default value of `n_init` will change from 10 to 'auto' in 1.4. Set the value of `n_init` explicitly to suppress the warning\n",
      "  warnings.warn(\n"
     ]
    },
    {
     "data": {
      "image/png": "[encoded data removed]",
      "text/plain": [
       "<Figure size 432x288 with 1 Axes>"
      ]
     },
     "metadata": {
      "needs_background": "light"
     },
     "output_type": "display_data"
    }
   ],
   "source": [
    "X= features\n",
    "wcss = []\n",
    "max_clusters = 10  # Set the maximum number of clusters to consider\n",
    "for k in range(1, max_clusters + 1):\n",
    "    model = KMeans(n_clusters=k)\n",
    "    model.fit(X)\n",
    "    wcss.append(model.inertia_)  # Get the WCSS for the current number of clusters\n",
    "\n",
    "# Plot the WCSS values against the number of clusters\n",
    "plt.plot(range(1, max_clusters + 1), wcss, marker='o')\n",
    "plt.xlabel('Number of Clusters')\n",
    "plt.ylabel('WCSS')\n",
    "plt.title('Elbow Method')\n",
    "plt.show()"
   ]
  },
  {
   "cell_type": "code",
   "execution_count": 84,
   "id": "a7ecf18e",
   "metadata": {},
   "outputs": [
    {
     "name": "stderr",
     "output_type": "stream",
     "text": [
      "/Users/ramsesmr/miniconda3/envs/ironhack/lib/python3.9/site-packages/sklearn/cluster/_kmeans.py:870: FutureWarning: The default value of `n_init` will change from 10 to 'auto' in 1.4. Set the value of `n_init` explicitly to suppress the warning\n",
      "  warnings.warn(\n"
     ]
    }
   ],
   "source": [
    "model = KMeans(n_clusters=3)  # Set the desired number of clusters\n",
    "model.fit(X)\n",
    "predictions = model.predict(X)\n"
   ]
  },
  {
   "cell_type": "code",
   "execution_count": 88,
   "id": "891c942a",
   "metadata": {
    "scrolled": true
   },
   "outputs": [
    {
     "data": {
      "image/png": "[encoded data removed]",
      "text/plain": [
       "<Figure size 432x288 with 1 Axes>"
      ]
     },
     "metadata": {
      "needs_background": "light"
     },
     "output_type": "display_data"
    }
   ],
   "source": [
    "plt.scatter(X.iloc[:, 0], X.iloc[:, 1], c=predictions, cmap='viridis')\n",
    "plt.scatter(model.cluster_centers_[:, 0], model.cluster_centers_[:, 1], marker='x', color='red', s=100)\n",
    "plt.xlabel('Feature 1')\n",
    "plt.ylabel('Feature 2')\n",
    "plt.title('K-Means Clustering')\n",
    "plt.show()"
   ]
  },
  {
   "cell_type": "code",
   "execution_count": 113,
   "id": "7dc0f7bb",
   "metadata": {},
   "outputs": [
    {
     "data": {
      "text/html": [
       "<div>\n",
       "<style scoped>\n",
       "    .dataframe tbody tr th:only-of-type {\n",
       "        vertical-align: middle;\n",
       "    }\n",
       "\n",
       "    .dataframe tbody tr th {\n",
       "        vertical-align: top;\n",
       "    }\n",
       "\n",
       "    .dataframe thead th {\n",
       "        text-align: right;\n",
       "    }\n",
       "</style>\n",
       "<table border=\"1\" class=\"dataframe\">\n",
       "  <thead>\n",
       "    <tr style=\"text-align: right;\">\n",
       "      <th></th>\n",
       "      <th>loudness</th>\n",
       "      <th>num_samples</th>\n",
       "      <th>tempo</th>\n",
       "      <th>tempo_confidence</th>\n",
       "      <th>key</th>\n",
       "      <th>key_confidence</th>\n",
       "      <th>duration</th>\n",
       "      <th>mode</th>\n",
       "      <th>mode_confidence</th>\n",
       "      <th>song_id</th>\n",
       "    </tr>\n",
       "  </thead>\n",
       "  <tbody>\n",
       "    <tr>\n",
       "      <th>0</th>\n",
       "      <td>-10.188</td>\n",
       "      <td>9221004</td>\n",
       "      <td>126.183</td>\n",
       "      <td>1.000</td>\n",
       "      <td>9</td>\n",
       "      <td>0.873</td>\n",
       "      <td>418.18613</td>\n",
       "      <td>1</td>\n",
       "      <td>0.527</td>\n",
       "      <td>45TU5kHrxsKiwHoTSbPK9I</td>\n",
       "    </tr>\n",
       "    <tr>\n",
       "      <th>1</th>\n",
       "      <td>-5.782</td>\n",
       "      <td>4689659</td>\n",
       "      <td>123.006</td>\n",
       "      <td>0.930</td>\n",
       "      <td>11</td>\n",
       "      <td>0.579</td>\n",
       "      <td>212.68295</td>\n",
       "      <td>0</td>\n",
       "      <td>0.578</td>\n",
       "      <td>6qxXnu2Lb7QlmBfkguRLbU</td>\n",
       "    </tr>\n",
       "    <tr>\n",
       "      <th>2</th>\n",
       "      <td>-6.539</td>\n",
       "      <td>3753204</td>\n",
       "      <td>127.791</td>\n",
       "      <td>0.884</td>\n",
       "      <td>5</td>\n",
       "      <td>0.206</td>\n",
       "      <td>170.21333</td>\n",
       "      <td>1</td>\n",
       "      <td>0.231</td>\n",
       "      <td>6kN799lUEuMI0xogqYIBeI</td>\n",
       "    </tr>\n",
       "    <tr>\n",
       "      <th>3</th>\n",
       "      <td>-8.352</td>\n",
       "      <td>7433677</td>\n",
       "      <td>125.292</td>\n",
       "      <td>1.000</td>\n",
       "      <td>1</td>\n",
       "      <td>0.792</td>\n",
       "      <td>337.12820</td>\n",
       "      <td>1</td>\n",
       "      <td>0.644</td>\n",
       "      <td>4LPumfUykfBq9gnnTA76aW</td>\n",
       "    </tr>\n",
       "    <tr>\n",
       "      <th>4</th>\n",
       "      <td>-13.063</td>\n",
       "      <td>6886068</td>\n",
       "      <td>128.030</td>\n",
       "      <td>0.799</td>\n",
       "      <td>11</td>\n",
       "      <td>0.578</td>\n",
       "      <td>312.29333</td>\n",
       "      <td>0</td>\n",
       "      <td>0.470</td>\n",
       "      <td>0DffmxmYHchUhPkwjZ7LiK</td>\n",
       "    </tr>\n",
       "    <tr>\n",
       "      <th>...</th>\n",
       "      <td>...</td>\n",
       "      <td>...</td>\n",
       "      <td>...</td>\n",
       "      <td>...</td>\n",
       "      <td>...</td>\n",
       "      <td>...</td>\n",
       "      <td>...</td>\n",
       "      <td>...</td>\n",
       "      <td>...</td>\n",
       "      <td>...</td>\n",
       "    </tr>\n",
       "    <tr>\n",
       "      <th>95</th>\n",
       "      <td>-6.799</td>\n",
       "      <td>5148246</td>\n",
       "      <td>121.982</td>\n",
       "      <td>0.734</td>\n",
       "      <td>6</td>\n",
       "      <td>0.646</td>\n",
       "      <td>233.48055</td>\n",
       "      <td>0</td>\n",
       "      <td>0.524</td>\n",
       "      <td>1zvLMu2LaeAX1OUgJlfXFc</td>\n",
       "    </tr>\n",
       "    <tr>\n",
       "      <th>96</th>\n",
       "      <td>-6.978</td>\n",
       "      <td>4696956</td>\n",
       "      <td>124.031</td>\n",
       "      <td>0.716</td>\n",
       "      <td>7</td>\n",
       "      <td>0.279</td>\n",
       "      <td>213.01389</td>\n",
       "      <td>0</td>\n",
       "      <td>0.435</td>\n",
       "      <td>1CBuMFHtveAB95hErFSU0f</td>\n",
       "    </tr>\n",
       "    <tr>\n",
       "      <th>97</th>\n",
       "      <td>-3.893</td>\n",
       "      <td>5984599</td>\n",
       "      <td>124.998</td>\n",
       "      <td>0.842</td>\n",
       "      <td>7</td>\n",
       "      <td>0.367</td>\n",
       "      <td>271.41040</td>\n",
       "      <td>1</td>\n",
       "      <td>0.491</td>\n",
       "      <td>6f7Dw4FAFv1BgGVtZEpc1N</td>\n",
       "    </tr>\n",
       "    <tr>\n",
       "      <th>98</th>\n",
       "      <td>-7.037</td>\n",
       "      <td>4552169</td>\n",
       "      <td>124.000</td>\n",
       "      <td>0.880</td>\n",
       "      <td>2</td>\n",
       "      <td>1.000</td>\n",
       "      <td>206.44757</td>\n",
       "      <td>1</td>\n",
       "      <td>0.745</td>\n",
       "      <td>4xz3k65Vimm8g9JXOmc8HE</td>\n",
       "    </tr>\n",
       "    <tr>\n",
       "      <th>99</th>\n",
       "      <td>-4.654</td>\n",
       "      <td>4137462</td>\n",
       "      <td>129.951</td>\n",
       "      <td>0.867</td>\n",
       "      <td>5</td>\n",
       "      <td>0.357</td>\n",
       "      <td>187.64000</td>\n",
       "      <td>1</td>\n",
       "      <td>0.336</td>\n",
       "      <td>7xL1F0tk9Xz8bMJoJcZyaV</td>\n",
       "    </tr>\n",
       "  </tbody>\n",
       "</table>\n",
       "<p>100 rows × 10 columns</p>\n",
       "</div>"
      ],
      "text/plain": [
       "    loudness  num_samples    tempo  tempo_confidence  key  key_confidence   \n",
       "0    -10.188      9221004  126.183             1.000    9           0.873  \\\n",
       "1     -5.782      4689659  123.006             0.930   11           0.579   \n",
       "2     -6.539      3753204  127.791             0.884    5           0.206   \n",
       "3     -8.352      7433677  125.292             1.000    1           0.792   \n",
       "4    -13.063      6886068  128.030             0.799   11           0.578   \n",
       "..       ...          ...      ...               ...  ...             ...   \n",
       "95    -6.799      5148246  121.982             0.734    6           0.646   \n",
       "96    -6.978      4696956  124.031             0.716    7           0.279   \n",
       "97    -3.893      5984599  124.998             0.842    7           0.367   \n",
       "98    -7.037      4552169  124.000             0.880    2           1.000   \n",
       "99    -4.654      4137462  129.951             0.867    5           0.357   \n",
       "\n",
       "     duration  mode  mode_confidence                 song_id  \n",
       "0   418.18613     1            0.527  45TU5kHrxsKiwHoTSbPK9I  \n",
       "1   212.68295     0            0.578  6qxXnu2Lb7QlmBfkguRLbU  \n",
       "2   170.21333     1            0.231  6kN799lUEuMI0xogqYIBeI  \n",
       "3   337.12820     1            0.644  4LPumfUykfBq9gnnTA76aW  \n",
       "4   312.29333     0            0.470  0DffmxmYHchUhPkwjZ7LiK  \n",
       "..        ...   ...              ...                     ...  \n",
       "95  233.48055     0            0.524  1zvLMu2LaeAX1OUgJlfXFc  \n",
       "96  213.01389     0            0.435  1CBuMFHtveAB95hErFSU0f  \n",
       "97  271.41040     1            0.491  6f7Dw4FAFv1BgGVtZEpc1N  \n",
       "98  206.44757     1            0.745  4xz3k65Vimm8g9JXOmc8HE  \n",
       "99  187.64000     1            0.336  7xL1F0tk9Xz8bMJoJcZyaV  \n",
       "\n",
       "[100 rows x 10 columns]"
      ]
     },
     "execution_count": 113,
     "metadata": {},
     "output_type": "execute_result"
    }
   ],
   "source": [
    "df3.drop('Unnamed: 0', inplace=True, axis=1)\n"
   ]
  },
  {
   "cell_type": "code",
   "execution_count": 124,
   "id": "3ef080a6",
   "metadata": {},
   "outputs": [],
   "source": [
    "\n",
    "input_data = df3\n",
    "dataset = df\n",
    "\n",
    "def get_recommendation(index, kmeans_model, dataset, default_value=None):\n",
    "    if index < 0 or index >= len(dataset):\n",
    "        # Invalid index, return default value or handle it accordingly\n",
    "        return default_value\n",
    "    \n",
    "    # Get the cluster label for the input data\n",
    "    input_data = dataset.iloc[[index]]\n",
    "    input_cluster = kmeans_model.predict(input_data.drop('song_id', axis=1))\n",
    "    \n",
    "    # Get the indices of data points in the same cluster as the input data\n",
    "    cluster_indices = np.where(kmeans_model.labels_ == input_cluster)[0]\n",
    "    \n",
    "    if len(cluster_indices) == 0:\n",
    "        # No data points in the same cluster, return default value or handle it accordingly\n",
    "        return default_value\n",
    "    \n",
    "    # Get the song ID from the dataset that belongs to the same cluster as the input data\n",
    "    song_id = dataset.iloc[cluster_indices]['song_id'].values[0]\n",
    "    \n",
    "    return song_id"
   ]
  },
  {
   "cell_type": "code",
   "execution_count": 144,
   "id": "000fbb33",
   "metadata": {},
   "outputs": [
    {
     "name": "stderr",
     "output_type": "stream",
     "text": [
      "/Users/ramsesmr/miniconda3/envs/ironhack/lib/python3.9/site-packages/sklearn/cluster/_kmeans.py:870: FutureWarning: The default value of `n_init` will change from 10 to 'auto' in 1.4. Set the value of `n_init` explicitly to suppress the warning\n",
      "  warnings.warn(\n"
     ]
    },
    {
     "data": {
      "text/html": [
       "<style>#sk-container-id-12 {color: black;background-color: white;}#sk-container-id-12 pre{padding: 0;}#sk-container-id-12 div.sk-toggleable {background-color: white;}#sk-container-id-12 label.sk-toggleable__label {cursor: pointer;display: block;width: 100%;margin-bottom: 0;padding: 0.3em;box-sizing: border-box;text-align: center;}#sk-container-id-12 label.sk-toggleable__label-arrow:before {content: \"▸\";float: left;margin-right: 0.25em;color: #696969;}#sk-container-id-12 label.sk-toggleable__label-arrow:hover:before {color: black;}#sk-container-id-12 div.sk-estimator:hover label.sk-toggleable__label-arrow:before {color: black;}#sk-container-id-12 div.sk-toggleable__content {max-height: 0;max-width: 0;overflow: hidden;text-align: left;background-color: #f0f8ff;}#sk-container-id-12 div.sk-toggleable__content pre {margin: 0.2em;color: black;border-radius: 0.25em;background-color: #f0f8ff;}#sk-container-id-12 input.sk-toggleable__control:checked~div.sk-toggleable__content {max-height: 200px;max-width: 100%;overflow: auto;}#sk-container-id-12 input.sk-toggleable__control:checked~label.sk-toggleable__label-arrow:before {content: \"▾\";}#sk-container-id-12 div.sk-estimator input.sk-toggleable__control:checked~label.sk-toggleable__label {background-color: #d4ebff;}#sk-container-id-12 div.sk-label input.sk-toggleable__control:checked~label.sk-toggleable__label {background-color: #d4ebff;}#sk-container-id-12 input.sk-hidden--visually {border: 0;clip: rect(1px 1px 1px 1px);clip: rect(1px, 1px, 1px, 1px);height: 1px;margin: -1px;overflow: hidden;padding: 0;position: absolute;width: 1px;}#sk-container-id-12 div.sk-estimator {font-family: monospace;background-color: #f0f8ff;border: 1px dotted black;border-radius: 0.25em;box-sizing: border-box;margin-bottom: 0.5em;}#sk-container-id-12 div.sk-estimator:hover {background-color: #d4ebff;}#sk-container-id-12 div.sk-parallel-item::after {content: \"\";width: 100%;border-bottom: 1px solid gray;flex-grow: 1;}#sk-container-id-12 div.sk-label:hover label.sk-toggleable__label {background-color: #d4ebff;}#sk-container-id-12 div.sk-serial::before {content: \"\";position: absolute;border-left: 1px solid gray;box-sizing: border-box;top: 0;bottom: 0;left: 50%;z-index: 0;}#sk-container-id-12 div.sk-serial {display: flex;flex-direction: column;align-items: center;background-color: white;padding-right: 0.2em;padding-left: 0.2em;position: relative;}#sk-container-id-12 div.sk-item {position: relative;z-index: 1;}#sk-container-id-12 div.sk-parallel {display: flex;align-items: stretch;justify-content: center;background-color: white;position: relative;}#sk-container-id-12 div.sk-item::before, #sk-container-id-12 div.sk-parallel-item::before {content: \"\";position: absolute;border-left: 1px solid gray;box-sizing: border-box;top: 0;bottom: 0;left: 50%;z-index: -1;}#sk-container-id-12 div.sk-parallel-item {display: flex;flex-direction: column;z-index: 1;position: relative;background-color: white;}#sk-container-id-12 div.sk-parallel-item:first-child::after {align-self: flex-end;width: 50%;}#sk-container-id-12 div.sk-parallel-item:last-child::after {align-self: flex-start;width: 50%;}#sk-container-id-12 div.sk-parallel-item:only-child::after {width: 0;}#sk-container-id-12 div.sk-dashed-wrapped {border: 1px dashed gray;margin: 0 0.4em 0.5em 0.4em;box-sizing: border-box;padding-bottom: 0.4em;background-color: white;}#sk-container-id-12 div.sk-label label {font-family: monospace;font-weight: bold;display: inline-block;line-height: 1.2em;}#sk-container-id-12 div.sk-label-container {text-align: center;}#sk-container-id-12 div.sk-container {/* jupyter's `normalize.less` sets `[hidden] { display: none; }` but bootstrap.min.css set `[hidden] { display: none !important; }` so we also need the `!important` here to be able to override the default hidden behavior on the sphinx rendered scikit-learn.org. See: https://github.com/scikit-learn/scikit-learn/issues/21755 */display: inline-block !important;position: relative;}#sk-container-id-12 div.sk-text-repr-fallback {display: none;}</style><div id=\"sk-container-id-12\" class=\"sk-top-container\"><div class=\"sk-text-repr-fallback\"><pre>KMeans(n_clusters=3)</pre><b>In a Jupyter environment, please rerun this cell to show the HTML representation or trust the notebook. <br />On GitHub, the HTML representation is unable to render, please try loading this page with nbviewer.org.</b></div><div class=\"sk-container\" hidden><div class=\"sk-item\"><div class=\"sk-estimator sk-toggleable\"><input class=\"sk-toggleable__control sk-hidden--visually\" id=\"sk-estimator-id-12\" type=\"checkbox\" checked><label for=\"sk-estimator-id-12\" class=\"sk-toggleable__label sk-toggleable__label-arrow\">KMeans</label><div class=\"sk-toggleable__content\"><pre>KMeans(n_clusters=3)</pre></div></div></div></div></div>"
      ],
      "text/plain": [
       "KMeans(n_clusters=3)"
      ]
     },
     "execution_count": 144,
     "metadata": {},
     "output_type": "execute_result"
    }
   ],
   "source": [
    "k = 3  # Number of clusters\n",
    "kmeans_model = KMeans(n_clusters=k)\n",
    "kmeans_model.fit(dataset.drop('song_id', axis=1))"
   ]
  },
  {
   "cell_type": "code",
   "execution_count": 148,
   "id": "bdbe711a",
   "metadata": {
    "scrolled": true
   },
   "outputs": [
    {
     "name": "stdout",
     "output_type": "stream",
     "text": [
      "Enter number from 0-99: 61\n",
      "Recommended Song ID: 00o3A1lw52kN47JWV9z4LI\n"
     ]
    }
   ],
   "source": [
    "index = int(input(\"Enter number from 0-99: \"))\n",
    "recommendation = get_recommendation(index, kmeans_model, dataset)\n",
    "print('Recommended Song ID:', recommendation)"
   ]
  },
  {
   "cell_type": "code",
   "execution_count": null,
   "id": "3cdb9e78",
   "metadata": {},
   "outputs": [],
   "source": []
  },
  {
   "cell_type": "code",
   "execution_count": null,
   "id": "8c60af38",
   "metadata": {},
   "outputs": [],
   "source": [
    "."
   ]
  }
 ],
 "metadata": {
  "kernelspec": {
   "display_name": "ironhack",
   "language": "python",
   "name": "ironhack"
  },
  "language_info": {
   "codemirror_mode": {
    "name": "ipython",
    "version": 3
   },
   "file_extension": ".py",
   "mimetype": "text/x-python",
   "name": "python",
   "nbconvert_exporter": "python",
   "pygments_lexer": "ipython3",
   "version": "3.9.16"
  }
 },
 "nbformat": 4,
 "nbformat_minor": 5
}
